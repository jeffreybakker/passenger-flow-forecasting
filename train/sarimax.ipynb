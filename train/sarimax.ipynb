{
 "cells": [
  {
   "cell_type": "code",
   "execution_count": 1,
   "outputs": [],
   "source": [
    "import math\n",
    "\n",
    "import numpy as np\n",
    "import pandas as pd\n",
    "import torch\n",
    "import wandb as wandb\n",
    "\n",
    "SEED = 3\n",
    "\n",
    "np.random.seed(SEED)\n",
    "torch.manual_seed(SEED)\n",
    "torch.cuda.manual_seed(SEED)"
   ],
   "metadata": {
    "collapsed": false
   }
  },
  {
   "cell_type": "code",
   "execution_count": 2,
   "outputs": [],
   "source": [
    "import sys\n",
    "import os\n",
    "\n",
    "sys.path.append(os.path.dirname(os.getcwd()))"
   ],
   "metadata": {
    "collapsed": false
   }
  },
  {
   "cell_type": "code",
   "execution_count": 3,
   "outputs": [
    {
     "name": "stderr",
     "output_type": "stream",
     "text": [
      "LOADING DATA: 100%|██████████| 14/14 [00:50<00:00,  3.64s/it]\n",
      "LOADING DATA: 100%|██████████| 14/14 [00:15<00:00,  1.13s/it]\n",
      "LOADING DATA: 100%|██████████| 14/14 [00:15<00:00,  1.13s/it]\n"
     ]
    },
    {
     "data": {
      "text/plain": "                                        passengers     noise  weekend  \\\ndatetime            origin destination                                  \n2022-01-01 00:00:00 12     19                159.0  1.788628     True   \n                           LM                  6.0  0.436510     True   \n                           OW                 25.0  0.096497     True   \n                    16     24                 78.0 -1.863493     True   \n                           CC                 82.0 -0.277388     True   \n...                                            ...       ...      ...   \n2022-12-31 23:00:00 WD     ED                 17.0 -1.369044     True   \n                    WP     NC                 14.0 -1.853796     True   \n                           PC                 35.0 -1.561378     True   \n                    WS     FM                121.0 -0.871452     True   \n                           ML                 16.0  1.432205     True   \n\n                                        hours_00_04  hours_04_08  hours_08_12  \\\ndatetime            origin destination                                          \n2022-01-01 00:00:00 12     19                  True        False        False   \n                           LM                  True        False        False   \n                           OW                  True        False        False   \n                    16     24                  True        False        False   \n                           CC                  True        False        False   \n...                                             ...          ...          ...   \n2022-12-31 23:00:00 WD     ED                 False        False        False   \n                    WP     NC                 False        False        False   \n                           PC                 False        False        False   \n                    WS     FM                 False        False        False   \n                           ML                 False        False        False   \n\n                                        hours_12_16  hours_16_20  hours_20_24  \\\ndatetime            origin destination                                          \n2022-01-01 00:00:00 12     19                 False        False        False   \n                           LM                 False        False        False   \n                           OW                 False        False        False   \n                    16     24                 False        False        False   \n                           CC                 False        False        False   \n...                                             ...          ...          ...   \n2022-12-31 23:00:00 WD     ED                 False        False         True   \n                    WP     NC                 False        False         True   \n                           PC                 False        False         True   \n                    WS     FM                 False        False         True   \n                           ML                 False        False         True   \n\n                                        event_capacity  ...  \\\ndatetime            origin destination                  ...   \n2022-01-01 00:00:00 12     19                      0.0  ...   \n                           LM                      0.0  ...   \n                           OW                      0.0  ...   \n                    16     24                      0.0  ...   \n                           CC                      0.0  ...   \n...                                                ...  ...   \n2022-12-31 23:00:00 WD     ED                      0.0  ...   \n                    WP     NC                      0.0  ...   \n                           PC                      0.0  ...   \n                    WS     FM                      0.0  ...   \n                           ML                      0.0  ...   \n\n                                        event_type_education  \\\ndatetime            origin destination                         \n2022-01-01 00:00:00 12     19                          False   \n                           LM                          False   \n                           OW                          False   \n                    16     24                          False   \n                           CC                          False   \n...                                                      ...   \n2022-12-31 23:00:00 WD     ED                          False   \n                    WP     NC                          False   \n                           PC                          False   \n                    WS     FM                          False   \n                           ML                          False   \n\n                                        event_type_experiences  \\\ndatetime            origin destination                           \n2022-01-01 00:00:00 12     19                            False   \n                           LM                            False   \n                           OW                            False   \n                    16     24                            False   \n                           CC                            False   \n...                                                        ...   \n2022-12-31 23:00:00 WD     ED                            False   \n                    WP     NC                            False   \n                           PC                            False   \n                    WS     FM                            False   \n                           ML                            False   \n\n                                        event_type_festival  event_type_film  \\\ndatetime            origin destination                                         \n2022-01-01 00:00:00 12     19                         False            False   \n                           LM                         False            False   \n                           OW                         False            False   \n                    16     24                         False            False   \n                           CC                         False            False   \n...                                                     ...              ...   \n2022-12-31 23:00:00 WD     ED                         False            False   \n                    WP     NC                         False            False   \n                           PC                         False            False   \n                    WS     FM                         False            False   \n                           ML                         False            False   \n\n                                        event_type_food-drink  \\\ndatetime            origin destination                          \n2022-01-01 00:00:00 12     19                           False   \n                           LM                           False   \n                           OW                           False   \n                    16     24                           False   \n                           CC                           False   \n...                                                       ...   \n2022-12-31 23:00:00 WD     ED                           False   \n                    WP     NC                           False   \n                           PC                           False   \n                    WS     FM                           False   \n                           ML                           False   \n\n                                        event_type_lgbtq  event_type_music  \\\ndatetime            origin destination                                       \n2022-01-01 00:00:00 12     19                      False             False   \n                           LM                      False             False   \n                           OW                      False             False   \n                    16     24                      False             False   \n                           CC                      False             False   \n...                                                  ...               ...   \n2022-12-31 23:00:00 WD     ED                      False             False   \n                    WP     NC                      False             False   \n                           PC                      False             False   \n                    WS     FM                      False             False   \n                           ML                      False             False   \n\n                                        event_type_outdoor-recreation  \\\ndatetime            origin destination                                  \n2022-01-01 00:00:00 12     19                                   False   \n                           LM                                   False   \n                           OW                                   False   \n                    16     24                                   False   \n                           CC                                   False   \n...                                                               ...   \n2022-12-31 23:00:00 WD     ED                                   False   \n                    WP     NC                                   False   \n                           PC                                   False   \n                    WS     FM                                   False   \n                           ML                                   False   \n\n                                        event_type_party  event_type_sport  \ndatetime            origin destination                                      \n2022-01-01 00:00:00 12     19                      False             False  \n                           LM                      False             False  \n                           OW                      False             False  \n                    16     24                      False             False  \n                           CC                      False             False  \n...                                                  ...               ...  \n2022-12-31 23:00:00 WD     ED                      False             False  \n                    WP     NC                      False             False  \n                           PC                      False             False  \n                    WS     FM                      False             False  \n                           ML                      False             False  \n\n[893520 rows x 23 columns]",
      "text/html": "<div>\n<style scoped>\n    .dataframe tbody tr th:only-of-type {\n        vertical-align: middle;\n    }\n\n    .dataframe tbody tr th {\n        vertical-align: top;\n    }\n\n    .dataframe thead th {\n        text-align: right;\n    }\n</style>\n<table border=\"1\" class=\"dataframe\">\n  <thead>\n    <tr style=\"text-align: right;\">\n      <th></th>\n      <th></th>\n      <th></th>\n      <th>passengers</th>\n      <th>noise</th>\n      <th>weekend</th>\n      <th>hours_00_04</th>\n      <th>hours_04_08</th>\n      <th>hours_08_12</th>\n      <th>hours_12_16</th>\n      <th>hours_16_20</th>\n      <th>hours_20_24</th>\n      <th>event_capacity</th>\n      <th>...</th>\n      <th>event_type_education</th>\n      <th>event_type_experiences</th>\n      <th>event_type_festival</th>\n      <th>event_type_film</th>\n      <th>event_type_food-drink</th>\n      <th>event_type_lgbtq</th>\n      <th>event_type_music</th>\n      <th>event_type_outdoor-recreation</th>\n      <th>event_type_party</th>\n      <th>event_type_sport</th>\n    </tr>\n    <tr>\n      <th>datetime</th>\n      <th>origin</th>\n      <th>destination</th>\n      <th></th>\n      <th></th>\n      <th></th>\n      <th></th>\n      <th></th>\n      <th></th>\n      <th></th>\n      <th></th>\n      <th></th>\n      <th></th>\n      <th></th>\n      <th></th>\n      <th></th>\n      <th></th>\n      <th></th>\n      <th></th>\n      <th></th>\n      <th></th>\n      <th></th>\n      <th></th>\n      <th></th>\n    </tr>\n  </thead>\n  <tbody>\n    <tr>\n      <th rowspan=\"5\" valign=\"top\">2022-01-01 00:00:00</th>\n      <th rowspan=\"3\" valign=\"top\">12</th>\n      <th>19</th>\n      <td>159.0</td>\n      <td>1.788628</td>\n      <td>True</td>\n      <td>True</td>\n      <td>False</td>\n      <td>False</td>\n      <td>False</td>\n      <td>False</td>\n      <td>False</td>\n      <td>0.0</td>\n      <td>...</td>\n      <td>False</td>\n      <td>False</td>\n      <td>False</td>\n      <td>False</td>\n      <td>False</td>\n      <td>False</td>\n      <td>False</td>\n      <td>False</td>\n      <td>False</td>\n      <td>False</td>\n    </tr>\n    <tr>\n      <th>LM</th>\n      <td>6.0</td>\n      <td>0.436510</td>\n      <td>True</td>\n      <td>True</td>\n      <td>False</td>\n      <td>False</td>\n      <td>False</td>\n      <td>False</td>\n      <td>False</td>\n      <td>0.0</td>\n      <td>...</td>\n      <td>False</td>\n      <td>False</td>\n      <td>False</td>\n      <td>False</td>\n      <td>False</td>\n      <td>False</td>\n      <td>False</td>\n      <td>False</td>\n      <td>False</td>\n      <td>False</td>\n    </tr>\n    <tr>\n      <th>OW</th>\n      <td>25.0</td>\n      <td>0.096497</td>\n      <td>True</td>\n      <td>True</td>\n      <td>False</td>\n      <td>False</td>\n      <td>False</td>\n      <td>False</td>\n      <td>False</td>\n      <td>0.0</td>\n      <td>...</td>\n      <td>False</td>\n      <td>False</td>\n      <td>False</td>\n      <td>False</td>\n      <td>False</td>\n      <td>False</td>\n      <td>False</td>\n      <td>False</td>\n      <td>False</td>\n      <td>False</td>\n    </tr>\n    <tr>\n      <th rowspan=\"2\" valign=\"top\">16</th>\n      <th>24</th>\n      <td>78.0</td>\n      <td>-1.863493</td>\n      <td>True</td>\n      <td>True</td>\n      <td>False</td>\n      <td>False</td>\n      <td>False</td>\n      <td>False</td>\n      <td>False</td>\n      <td>0.0</td>\n      <td>...</td>\n      <td>False</td>\n      <td>False</td>\n      <td>False</td>\n      <td>False</td>\n      <td>False</td>\n      <td>False</td>\n      <td>False</td>\n      <td>False</td>\n      <td>False</td>\n      <td>False</td>\n    </tr>\n    <tr>\n      <th>CC</th>\n      <td>82.0</td>\n      <td>-0.277388</td>\n      <td>True</td>\n      <td>True</td>\n      <td>False</td>\n      <td>False</td>\n      <td>False</td>\n      <td>False</td>\n      <td>False</td>\n      <td>0.0</td>\n      <td>...</td>\n      <td>False</td>\n      <td>False</td>\n      <td>False</td>\n      <td>False</td>\n      <td>False</td>\n      <td>False</td>\n      <td>False</td>\n      <td>False</td>\n      <td>False</td>\n      <td>False</td>\n    </tr>\n    <tr>\n      <th>...</th>\n      <th>...</th>\n      <th>...</th>\n      <td>...</td>\n      <td>...</td>\n      <td>...</td>\n      <td>...</td>\n      <td>...</td>\n      <td>...</td>\n      <td>...</td>\n      <td>...</td>\n      <td>...</td>\n      <td>...</td>\n      <td>...</td>\n      <td>...</td>\n      <td>...</td>\n      <td>...</td>\n      <td>...</td>\n      <td>...</td>\n      <td>...</td>\n      <td>...</td>\n      <td>...</td>\n      <td>...</td>\n      <td>...</td>\n    </tr>\n    <tr>\n      <th rowspan=\"5\" valign=\"top\">2022-12-31 23:00:00</th>\n      <th>WD</th>\n      <th>ED</th>\n      <td>17.0</td>\n      <td>-1.369044</td>\n      <td>True</td>\n      <td>False</td>\n      <td>False</td>\n      <td>False</td>\n      <td>False</td>\n      <td>False</td>\n      <td>True</td>\n      <td>0.0</td>\n      <td>...</td>\n      <td>False</td>\n      <td>False</td>\n      <td>False</td>\n      <td>False</td>\n      <td>False</td>\n      <td>False</td>\n      <td>False</td>\n      <td>False</td>\n      <td>False</td>\n      <td>False</td>\n    </tr>\n    <tr>\n      <th rowspan=\"2\" valign=\"top\">WP</th>\n      <th>NC</th>\n      <td>14.0</td>\n      <td>-1.853796</td>\n      <td>True</td>\n      <td>False</td>\n      <td>False</td>\n      <td>False</td>\n      <td>False</td>\n      <td>False</td>\n      <td>True</td>\n      <td>0.0</td>\n      <td>...</td>\n      <td>False</td>\n      <td>False</td>\n      <td>False</td>\n      <td>False</td>\n      <td>False</td>\n      <td>False</td>\n      <td>False</td>\n      <td>False</td>\n      <td>False</td>\n      <td>False</td>\n    </tr>\n    <tr>\n      <th>PC</th>\n      <td>35.0</td>\n      <td>-1.561378</td>\n      <td>True</td>\n      <td>False</td>\n      <td>False</td>\n      <td>False</td>\n      <td>False</td>\n      <td>False</td>\n      <td>True</td>\n      <td>0.0</td>\n      <td>...</td>\n      <td>False</td>\n      <td>False</td>\n      <td>False</td>\n      <td>False</td>\n      <td>False</td>\n      <td>False</td>\n      <td>False</td>\n      <td>False</td>\n      <td>False</td>\n      <td>False</td>\n    </tr>\n    <tr>\n      <th rowspan=\"2\" valign=\"top\">WS</th>\n      <th>FM</th>\n      <td>121.0</td>\n      <td>-0.871452</td>\n      <td>True</td>\n      <td>False</td>\n      <td>False</td>\n      <td>False</td>\n      <td>False</td>\n      <td>False</td>\n      <td>True</td>\n      <td>0.0</td>\n      <td>...</td>\n      <td>False</td>\n      <td>False</td>\n      <td>False</td>\n      <td>False</td>\n      <td>False</td>\n      <td>False</td>\n      <td>False</td>\n      <td>False</td>\n      <td>False</td>\n      <td>False</td>\n    </tr>\n    <tr>\n      <th>ML</th>\n      <td>16.0</td>\n      <td>1.432205</td>\n      <td>True</td>\n      <td>False</td>\n      <td>False</td>\n      <td>False</td>\n      <td>False</td>\n      <td>False</td>\n      <td>True</td>\n      <td>0.0</td>\n      <td>...</td>\n      <td>False</td>\n      <td>False</td>\n      <td>False</td>\n      <td>False</td>\n      <td>False</td>\n      <td>False</td>\n      <td>False</td>\n      <td>False</td>\n      <td>False</td>\n      <td>False</td>\n    </tr>\n  </tbody>\n</table>\n<p>893520 rows × 23 columns</p>\n</div>"
     },
     "execution_count": 3,
     "metadata": {},
     "output_type": "execute_result"
    }
   ],
   "source": [
    "from datetime import date\n",
    "\n",
    "from torchvision import transforms\n",
    "\n",
    "from util.dataset import FeaturePassengerFlowDataset\n",
    "from util.transform import PandasToTensor, RollExogenousFeatures\n",
    "\n",
    "transform = transforms.Compose([\n",
    "    PandasToTensor(),\n",
    "    RollExogenousFeatures()\n",
    "])\n",
    "\n",
    "train_data = FeaturePassengerFlowDataset(\n",
    "    min_date=date(2022, 1, 1),\n",
    "    max_date=date(2023, 1, 1),\n",
    "    transform=transform)\n",
    "validation_data = FeaturePassengerFlowDataset(\n",
    "    min_date=date(2023, 1, 1),\n",
    "    max_date=date(2023, 4, 1),\n",
    "    transform=transform)\n",
    "test_data = FeaturePassengerFlowDataset(\n",
    "    min_date=date(2023, 4, 1),\n",
    "    max_date=date(2023, 7, 1),\n",
    "    transform=transform)\n",
    "\n",
    "train_data._data"
   ],
   "metadata": {
    "collapsed": false
   }
  },
  {
   "cell_type": "code",
   "execution_count": 4,
   "outputs": [],
   "source": [
    "from torch.utils.data import DataLoader\n",
    "\n",
    "BATCH_SIZE = 256\n",
    "\n",
    "train_loader = DataLoader(train_data, batch_size=BATCH_SIZE, shuffle=True, num_workers=4)\n",
    "validation_loader = DataLoader(validation_data, batch_size=BATCH_SIZE, shuffle=True, num_workers=4)\n",
    "test_loader = DataLoader(test_data, batch_size=BATCH_SIZE, shuffle=True, num_workers=4)"
   ],
   "metadata": {
    "collapsed": false
   }
  },
  {
   "cell_type": "code",
   "execution_count": 5,
   "metadata": {
    "collapsed": true
   },
   "outputs": [],
   "source": [
    "from torch.optim.lr_scheduler import ExponentialLR\n",
    "from models.sarima import SARIMAX\n",
    "from torch.optim import AdamW\n",
    "\n",
    "import torch.nn as nn\n",
    "\n",
    "device = torch.device('cuda:0')\n",
    "\n",
    "model = SARIMAX(\n",
    "    order=(23, 1, 0),\n",
    "    seasonal_lag=24,\n",
    "    seasonal_order=(7, 0, 0),\n",
    "    n_features=train_data[0][0].shape[1] - 2\n",
    ").to(device)\n",
    "\n",
    "# Define the loss function and optimizer\n",
    "criterion = nn.MSELoss()\n",
    "optimizer = AdamW(model.parameters(), lr=1.0e-3, eps=1.0e-4)\n",
    "scheduler = ExponentialLR(optimizer, 0.9)"
   ]
  },
  {
   "cell_type": "code",
   "execution_count": 6,
   "outputs": [
    {
     "name": "stderr",
     "output_type": "stream",
     "text": [
      "\u001B[34m\u001B[1mwandb\u001B[0m: Currently logged in as: \u001B[33mjeffreybakker\u001B[0m. Use \u001B[1m`wandb login --relogin`\u001B[0m to force relogin\n"
     ]
    },
    {
     "data": {
      "text/plain": "<IPython.core.display.HTML object>",
      "text/html": "Tracking run with wandb version 0.15.12"
     },
     "metadata": {},
     "output_type": "display_data"
    },
    {
     "data": {
      "text/plain": "<IPython.core.display.HTML object>",
      "text/html": "Run data is saved locally in <code>C:\\Users\\JeffreyB\\Code\\Python\\Passenger Flow Forecasting\\train\\wandb\\run-20231020_120910-5wbljls9</code>"
     },
     "metadata": {},
     "output_type": "display_data"
    },
    {
     "data": {
      "text/plain": "<IPython.core.display.HTML object>",
      "text/html": "Syncing run <strong><a href='https://wandb.ai/jeffreybakker/passenger-flow-forecasting/runs/5wbljls9' target=\"_blank\">genial-forest-266</a></strong> to <a href='https://wandb.ai/jeffreybakker/passenger-flow-forecasting' target=\"_blank\">Weights & Biases</a> (<a href='https://wandb.me/run' target=\"_blank\">docs</a>)<br/>"
     },
     "metadata": {},
     "output_type": "display_data"
    },
    {
     "data": {
      "text/plain": "<IPython.core.display.HTML object>",
      "text/html": " View project at <a href='https://wandb.ai/jeffreybakker/passenger-flow-forecasting' target=\"_blank\">https://wandb.ai/jeffreybakker/passenger-flow-forecasting</a>"
     },
     "metadata": {},
     "output_type": "display_data"
    },
    {
     "data": {
      "text/plain": "<IPython.core.display.HTML object>",
      "text/html": " View run at <a href='https://wandb.ai/jeffreybakker/passenger-flow-forecasting/runs/5wbljls9' target=\"_blank\">https://wandb.ai/jeffreybakker/passenger-flow-forecasting/runs/5wbljls9</a>"
     },
     "metadata": {},
     "output_type": "display_data"
    },
    {
     "data": {
      "text/html": "<button onClick=\"this.nextSibling.style.display='block';this.style.display='none';\">Display W&B run</button><iframe src='https://wandb.ai/jeffreybakker/passenger-flow-forecasting/runs/5wbljls9?jupyter=true' style='border:none;width:100%;height:420px;display:none;'></iframe>",
      "text/plain": "<wandb.sdk.wandb_run.Run at 0x1b16be6ef50>"
     },
     "execution_count": 6,
     "metadata": {},
     "output_type": "execute_result"
    }
   ],
   "source": [
    "import wandb\n",
    "\n",
    "# Log run to Weights and Biases\n",
    "wandb.init(project='passenger-flow-forecasting',\n",
    "           config={\n",
    "               'model': 'SARIMAX',\n",
    "               'p': model._order[0],\n",
    "               'd': model._order[1],\n",
    "               'q': model._order[2],\n",
    "               'P': model._seasonal_order[0],\n",
    "               'D': model._seasonal_order[1],\n",
    "               'Q': model._seasonal_order[2],\n",
    "               'events': True,\n",
    "               'features': train_data._data.columns\n",
    "           })"
   ],
   "metadata": {
    "collapsed": false
   }
  },
  {
   "cell_type": "code",
   "execution_count": 7,
   "outputs": [
    {
     "data": {
      "text/plain": "EPOCH:   0%|          | 0/10 [00:00<?, ?it/s]",
      "application/vnd.jupyter.widget-view+json": {
       "version_major": 2,
       "version_minor": 0,
       "model_id": "c452bf1c16ee420791e5053128e25ba9"
      }
     },
     "metadata": {},
     "output_type": "display_data"
    },
    {
     "data": {
      "text/plain": "TRAIN: 0it [00:00, ?it/s]",
      "application/vnd.jupyter.widget-view+json": {
       "version_major": 2,
       "version_minor": 0,
       "model_id": "d279b38ebdf6462ca816cbb6f8b2bc86"
      }
     },
     "metadata": {},
     "output_type": "display_data"
    },
    {
     "name": "stdout",
     "output_type": "stream",
     "text": [
      "# 1    RMSE: 140.90    MAE: 75.13\n",
      "# 2    RMSE: 127.22    MAE: 60.89\n",
      "# 3    RMSE: 127.54    MAE: 60.10\n",
      "# 4    RMSE: 127.39    MAE: 59.56\n",
      "# 5    RMSE: 127.78    MAE: 59.68\n",
      "# 6    RMSE: 127.75    MAE: 59.07\n",
      "# 7    RMSE: 127.77    MAE: 59.23\n",
      "# 8    RMSE: 128.14    MAE: 59.26\n",
      "# 9    RMSE: 128.61    MAE: 59.72\n",
      "#10    RMSE: 128.29    MAE: 60.02\n"
     ]
    }
   ],
   "source": [
    "from datetime import datetime\n",
    "import os\n",
    "\n",
    "from sklearn import metrics\n",
    "from tqdm.notebook import tqdm\n",
    "\n",
    "EPOCHS = 10\n",
    "last_state = (-1, None)\n",
    "\n",
    "# Create weights directories\n",
    "os.makedirs('weights/sarimax/checkpoints', exist_ok=True)\n",
    "\n",
    "tqdm_epoch = tqdm(desc='EPOCH', total=EPOCHS)\n",
    "tqdm_batch = tqdm(desc='TRAIN', total=0)\n",
    "\n",
    "for epoch in range(1, EPOCHS+1):\n",
    "    # Set the model to training mode\n",
    "    model.train()\n",
    "\n",
    "    # Keep track of the training loss\n",
    "    y_true = []\n",
    "    y_pred = []\n",
    "\n",
    "    # Loop over training data in batches\n",
    "    tqdm_batch.reset(len(train_loader))\n",
    "    tqdm_batch.desc = 'TRAIN'\n",
    "    for batch in train_loader:\n",
    "        # Move the data to the same device as the model\n",
    "        history, horizon = tuple(t.to(device) for t in batch)\n",
    "\n",
    "        # Select views of data\n",
    "        y = horizon[:, 0, 0].squeeze()\n",
    "\n",
    "        # Clear the gradients\n",
    "        optimizer.zero_grad()\n",
    "\n",
    "        # Compute outputs using a forward pass\n",
    "        outputs = model(history, horizon).squeeze()\n",
    "\n",
    "        # Compute the training loss of this batch\n",
    "        loss = criterion(outputs, y)\n",
    "\n",
    "        # Perform a backward pass to update weights\n",
    "        loss.backward()\n",
    "        optimizer.step()\n",
    "\n",
    "        # Keep track of training loss\n",
    "        y_true += y.cpu().numpy().tolist()\n",
    "        y_pred += outputs.cpu().detach().numpy().tolist()\n",
    "\n",
    "        tqdm_batch.update()\n",
    "\n",
    "    train_mse = metrics.mean_squared_error(y_true, y_pred)\n",
    "    train_mae = metrics.mean_absolute_error(y_true, y_pred)\n",
    "    y_true = []\n",
    "    y_pred = []\n",
    "\n",
    "    # We don't need to keep track of gradients while testing on the validation set\n",
    "    with torch.no_grad():\n",
    "        model.eval()\n",
    "\n",
    "        # Loop over data in batches\n",
    "        tqdm_batch.reset(len(validation_loader))\n",
    "        tqdm_batch.desc = 'VALIDATE'\n",
    "        for batch in validation_loader:\n",
    "            # Move the data to the same device as the model\n",
    "            history, horizon = tuple(t.to(device) for t in batch)\n",
    "\n",
    "            # Select views of data\n",
    "            y = horizon[:, 0, 0].squeeze()\n",
    "\n",
    "            # Compute outputs using a forward pass\n",
    "            outputs = model(history, horizon).squeeze()\n",
    "\n",
    "            # Keep track of validation loss\n",
    "            y_true += y.cpu().numpy().tolist()\n",
    "            y_pred += outputs.cpu().detach().numpy().tolist()\n",
    "\n",
    "            tqdm_batch.update()\n",
    "\n",
    "    validation_mse = metrics.mean_squared_error(y_true, y_pred)\n",
    "    validation_mae = metrics.mean_absolute_error(y_true, y_pred)\n",
    "\n",
    "    print(f'#{epoch:2d}    RMSE: {math.sqrt(validation_mse):.2f}    MAE: {validation_mae:.2f}')\n",
    "\n",
    "    # Log metrics to Weights and Biases\n",
    "    wandb.log({\n",
    "        'train_mse': train_mse,\n",
    "        'train_mae': train_mae,\n",
    "        'validation_mse': validation_mse,\n",
    "        'validation_mae': validation_mae\n",
    "    }, commit=epoch < EPOCHS)\n",
    "\n",
    "    scheduler.step()\n",
    "\n",
    "    last_state = epoch, model.state_dict()\n",
    "\n",
    "    if epoch < 5 or epoch % 5 == 0:\n",
    "        torch.save(model.state_dict(), f'weights/sarimax/checkpoints/{epoch:2d}.pt')\n",
    "\n",
    "    tqdm_epoch.update()\n",
    "\n",
    "tqdm_batch.close()\n",
    "tqdm_epoch.close()"
   ],
   "metadata": {
    "collapsed": false
   }
  },
  {
   "cell_type": "code",
   "execution_count": 8,
   "outputs": [],
   "source": [
    "# Save the trained model\n",
    "now = datetime.now()\n",
    "datestring = f'{now.year}{str(now.month).zfill(2)}{str(now.day).zfill(2)}-{str(now.hour).zfill(2)}{str(now.minute).zfill(2)}'\n",
    "torch.save(last_state[1], f'weights/sarimax/{datestring}--{last_state[0]}.pt')\n",
    "torch.save(last_state[1], f'weights/sarimax/seed-{SEED}.pt')\n",
    "torch.save(last_state[1], f'weights/sarimax/latest.pt')"
   ],
   "metadata": {
    "collapsed": false
   }
  },
  {
   "cell_type": "code",
   "execution_count": 9,
   "outputs": [],
   "source": [
    "from os.path import exists\n",
    "\n",
    "if exists(f'weights/sarimax/latest.pt'):\n",
    "    model.load_state_dict(torch.load(f'weights/sarimax/latest.pt'))"
   ],
   "metadata": {
    "collapsed": false
   }
  },
  {
   "cell_type": "code",
   "execution_count": 10,
   "outputs": [
    {
     "data": {
      "text/plain": "TEST:   0%|          | 0/775 [00:00<?, ?it/s]",
      "application/vnd.jupyter.widget-view+json": {
       "version_major": 2,
       "version_minor": 0,
       "model_id": "31e25b36c9f040ec8ac30fb8f615d047"
      }
     },
     "metadata": {},
     "output_type": "display_data"
    },
    {
     "name": "stdout",
     "output_type": "stream",
     "text": [
      "MSE: 20653.37\n",
      "RMSE: 143.71\n",
      "MAE: 67.84\n",
      "MAPE: 1.13\n"
     ]
    }
   ],
   "source": [
    "import math\n",
    "\n",
    "# Keep track of the loss\n",
    "y_true = []\n",
    "y_pred = []\n",
    "\n",
    "# We don't need to keep track of gradients while testing\n",
    "with torch.no_grad():\n",
    "    model.eval()\n",
    "\n",
    "    # Loop over data in batches\n",
    "    for batch in tqdm(test_loader, desc='TEST'):\n",
    "        # Move the data to the same device as the model\n",
    "        history, horizon = tuple(t.to(device) for t in batch)\n",
    "\n",
    "        # Select views of data\n",
    "        y = horizon[:, 0, 0].squeeze()\n",
    "\n",
    "        # Compute outputs using a forward pass\n",
    "        outputs = model(history, horizon).squeeze()\n",
    "\n",
    "        # Keep track of loss\n",
    "        y_true += y.cpu().numpy().tolist()\n",
    "        y_pred += outputs.cpu().detach().numpy().tolist()\n",
    "\n",
    "        tqdm_batch.update()\n",
    "\n",
    "# Cast results to integers\n",
    "y_true = np.array(y_true).astype('int')\n",
    "y_pred = np.array(y_pred).astype('int')\n",
    "\n",
    "# Drop results where y_true == 0\n",
    "mask = y_true > 0\n",
    "y_true = y_true[mask]\n",
    "y_pred = y_pred[mask]\n",
    "\n",
    "test_mse = metrics.mean_squared_error(y_true, y_pred)\n",
    "test_rmse = metrics.mean_squared_error(y_true, y_pred, squared=False)\n",
    "test_mae = metrics.mean_absolute_error(y_true, y_pred)\n",
    "test_mape = metrics.mean_absolute_percentage_error(y_true, y_pred)\n",
    "\n",
    "# Log metrics to Weights and Biases\n",
    "wandb.log({\n",
    "    'mse': test_mse,\n",
    "    'rmse': test_rmse,\n",
    "    'mae': test_mae,\n",
    "    'mape': test_mape\n",
    "}, commit=True)\n",
    "\n",
    "print(f'MSE: {test_mse:.2f}')\n",
    "print(f'RMSE: {test_rmse:.2f}')\n",
    "print(f'MAE: {test_mae:.2f}')\n",
    "print(f'MAPE: {test_mape:.2f}')"
   ],
   "metadata": {
    "collapsed": false
   }
  },
  {
   "cell_type": "code",
   "execution_count": 11,
   "outputs": [
    {
     "data": {
      "text/plain": "<IPython.core.display.HTML object>",
      "text/html": "Waiting for W&B process to finish... <strong style=\"color:green\">(success).</strong>"
     },
     "metadata": {},
     "output_type": "display_data"
    },
    {
     "data": {
      "text/plain": "VBox(children=(Label(value='0.001 MB of 0.001 MB uploaded (0.000 MB deduped)\\r'), FloatProgress(value=1.0, max…",
      "application/vnd.jupyter.widget-view+json": {
       "version_major": 2,
       "version_minor": 0,
       "model_id": "db5d1f818a034a56b632618c7b9ad942"
      }
     },
     "metadata": {},
     "output_type": "display_data"
    },
    {
     "data": {
      "text/plain": "<IPython.core.display.HTML object>",
      "text/html": "<style>\n    table.wandb td:nth-child(1) { padding: 0 10px; text-align: left ; width: auto;} td:nth-child(2) {text-align: left ; width: 100%}\n    .wandb-row { display: flex; flex-direction: row; flex-wrap: wrap; justify-content: flex-start; width: 100% }\n    .wandb-col { display: flex; flex-direction: column; flex-basis: 100%; flex: 1; padding: 10px; }\n    </style>\n<div class=\"wandb-row\"><div class=\"wandb-col\"><h3>Run history:</h3><br/><table class=\"wandb\"><tr><td>mae</td><td>▁</td></tr><tr><td>mape</td><td>▁</td></tr><tr><td>mse</td><td>▁</td></tr><tr><td>rmse</td><td>▁</td></tr><tr><td>train_mae</td><td>█▂▁▁▁▁▁▁▁▁</td></tr><tr><td>train_mse</td><td>█▁▁▁▁▁▁▁▁▁</td></tr><tr><td>validation_mae</td><td>█▂▁▁▁▁▁▁▁▁</td></tr><tr><td>validation_mse</td><td>█▁▁▁▁▁▁▁▂▂</td></tr></table><br/></div><div class=\"wandb-col\"><h3>Run summary:</h3><br/><table class=\"wandb\"><tr><td>mae</td><td>67.83901</td></tr><tr><td>mape</td><td>1.12753</td></tr><tr><td>mse</td><td>20653.3707</td></tr><tr><td>rmse</td><td>143.71281</td></tr><tr><td>train_mae</td><td>54.4984</td></tr><tr><td>train_mse</td><td>14637.56799</td></tr><tr><td>validation_mae</td><td>60.01559</td></tr><tr><td>validation_mse</td><td>16459.60106</td></tr></table><br/></div></div>"
     },
     "metadata": {},
     "output_type": "display_data"
    },
    {
     "data": {
      "text/plain": "<IPython.core.display.HTML object>",
      "text/html": " View run <strong style=\"color:#cdcd00\">genial-forest-266</strong> at: <a href='https://wandb.ai/jeffreybakker/passenger-flow-forecasting/runs/5wbljls9' target=\"_blank\">https://wandb.ai/jeffreybakker/passenger-flow-forecasting/runs/5wbljls9</a><br/> View job at <a href='https://wandb.ai/jeffreybakker/passenger-flow-forecasting/jobs/QXJ0aWZhY3RDb2xsZWN0aW9uOjk0Nzc2NDAw/version_details/v3' target=\"_blank\">https://wandb.ai/jeffreybakker/passenger-flow-forecasting/jobs/QXJ0aWZhY3RDb2xsZWN0aW9uOjk0Nzc2NDAw/version_details/v3</a><br/>Synced 5 W&B file(s), 0 media file(s), 2 artifact file(s) and 0 other file(s)"
     },
     "metadata": {},
     "output_type": "display_data"
    },
    {
     "data": {
      "text/plain": "<IPython.core.display.HTML object>",
      "text/html": "Find logs at: <code>.\\wandb\\run-20231020_120910-5wbljls9\\logs</code>"
     },
     "metadata": {},
     "output_type": "display_data"
    }
   ],
   "source": [
    "# Finish the Weights and Biases run\n",
    "wandb.finish()"
   ],
   "metadata": {
    "collapsed": false
   }
  }
 ],
 "metadata": {
  "kernelspec": {
   "display_name": "Python 3",
   "language": "python",
   "name": "python3"
  },
  "language_info": {
   "codemirror_mode": {
    "name": "ipython",
    "version": 2
   },
   "file_extension": ".py",
   "mimetype": "text/x-python",
   "name": "python",
   "nbconvert_exporter": "python",
   "pygments_lexer": "ipython2",
   "version": "2.7.6"
  }
 },
 "nbformat": 4,
 "nbformat_minor": 0
}
