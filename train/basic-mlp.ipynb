{
 "cells": [
  {
   "cell_type": "code",
   "execution_count": 1,
   "metadata": {
    "collapsed": true
   },
   "outputs": [],
   "source": [
    "import numpy as np\n",
    "import torch\n",
    "\n",
    "SEED = 13\n",
    "\n",
    "np.random.seed(SEED)\n",
    "torch.manual_seed(SEED)\n",
    "torch.cuda.manual_seed(SEED)"
   ]
  },
  {
   "cell_type": "code",
   "execution_count": 2,
   "outputs": [],
   "source": [
    "import sys\n",
    "import os\n",
    "\n",
    "sys.path.append(os.path.dirname(os.getcwd()))"
   ],
   "metadata": {
    "collapsed": false
   }
  },
  {
   "cell_type": "code",
   "execution_count": 3,
   "outputs": [
    {
     "name": "stderr",
     "output_type": "stream",
     "text": [
      "LOADING DATA: 100%|██████████| 14/14 [01:42<00:00,  7.36s/it]\n",
      "LOADING DATA: 100%|██████████| 14/14 [00:29<00:00,  2.14s/it]\n",
      "LOADING DATA: 100%|██████████| 14/14 [00:29<00:00,  2.11s/it]\n"
     ]
    },
    {
     "data": {
      "text/plain": "                                        passengers     noise  weekend   \ndatetime            origin destination                                  \n2022-01-01 00:00:00 12     19                159.0 -0.712391     True  \\\n                           LM                  6.0  0.753766     True   \n                           OW                 25.0 -0.044503     True   \n                    16     24                 78.0  0.451812     True   \n                           CC                 82.0  1.345102     True   \n...                                            ...       ...      ...   \n2022-12-31 23:00:00 WD     ED                 17.0  1.539637     True   \n                    WP     NC                 14.0 -0.839664     True   \n                           PC                 35.0  1.191693     True   \n                    WS     FM                121.0  0.013203     True   \n                           ML                 16.0  0.652791     True   \n\n                                        hours_00_04  hours_04_08  hours_08_12   \ndatetime            origin destination                                          \n2022-01-01 00:00:00 12     19                  True        False        False  \\\n                           LM                  True        False        False   \n                           OW                  True        False        False   \n                    16     24                  True        False        False   \n                           CC                  True        False        False   \n...                                             ...          ...          ...   \n2022-12-31 23:00:00 WD     ED                 False        False        False   \n                    WP     NC                 False        False        False   \n                           PC                 False        False        False   \n                    WS     FM                 False        False        False   \n                           ML                 False        False        False   \n\n                                        hours_12_16  hours_16_20  hours_20_24   \ndatetime            origin destination                                          \n2022-01-01 00:00:00 12     19                 False        False        False  \\\n                           LM                 False        False        False   \n                           OW                 False        False        False   \n                    16     24                 False        False        False   \n                           CC                 False        False        False   \n...                                             ...          ...          ...   \n2022-12-31 23:00:00 WD     ED                 False        False         True   \n                    WP     NC                 False        False         True   \n                           PC                 False        False         True   \n                    WS     FM                 False        False         True   \n                           ML                 False        False         True   \n\n                                        event_capacity  ...   \ndatetime            origin destination                  ...   \n2022-01-01 00:00:00 12     19                      0.0  ...  \\\n                           LM                      0.0  ...   \n                           OW                      0.0  ...   \n                    16     24                      0.0  ...   \n                           CC                      0.0  ...   \n...                                                ...  ...   \n2022-12-31 23:00:00 WD     ED                      0.0  ...   \n                    WP     NC                      0.0  ...   \n                           PC                      0.0  ...   \n                    WS     FM                      0.0  ...   \n                           ML                      0.0  ...   \n\n                                        event_type_education   \ndatetime            origin destination                         \n2022-01-01 00:00:00 12     19                          False  \\\n                           LM                          False   \n                           OW                          False   \n                    16     24                          False   \n                           CC                          False   \n...                                                      ...   \n2022-12-31 23:00:00 WD     ED                          False   \n                    WP     NC                          False   \n                           PC                          False   \n                    WS     FM                          False   \n                           ML                          False   \n\n                                        event_type_experiences   \ndatetime            origin destination                           \n2022-01-01 00:00:00 12     19                            False  \\\n                           LM                            False   \n                           OW                            False   \n                    16     24                            False   \n                           CC                            False   \n...                                                        ...   \n2022-12-31 23:00:00 WD     ED                            False   \n                    WP     NC                            False   \n                           PC                            False   \n                    WS     FM                            False   \n                           ML                            False   \n\n                                        event_type_festival  event_type_film   \ndatetime            origin destination                                         \n2022-01-01 00:00:00 12     19                         False            False  \\\n                           LM                         False            False   \n                           OW                         False            False   \n                    16     24                         False            False   \n                           CC                         False            False   \n...                                                     ...              ...   \n2022-12-31 23:00:00 WD     ED                         False            False   \n                    WP     NC                         False            False   \n                           PC                         False            False   \n                    WS     FM                         False            False   \n                           ML                         False            False   \n\n                                        event_type_food-drink   \ndatetime            origin destination                          \n2022-01-01 00:00:00 12     19                           False  \\\n                           LM                           False   \n                           OW                           False   \n                    16     24                           False   \n                           CC                           False   \n...                                                       ...   \n2022-12-31 23:00:00 WD     ED                           False   \n                    WP     NC                           False   \n                           PC                           False   \n                    WS     FM                           False   \n                           ML                           False   \n\n                                        event_type_lgbtq  event_type_music   \ndatetime            origin destination                                       \n2022-01-01 00:00:00 12     19                      False             False  \\\n                           LM                      False             False   \n                           OW                      False             False   \n                    16     24                      False             False   \n                           CC                      False             False   \n...                                                  ...               ...   \n2022-12-31 23:00:00 WD     ED                      False             False   \n                    WP     NC                      False             False   \n                           PC                      False             False   \n                    WS     FM                      False             False   \n                           ML                      False             False   \n\n                                        event_type_outdoor-recreation   \ndatetime            origin destination                                  \n2022-01-01 00:00:00 12     19                                   False  \\\n                           LM                                   False   \n                           OW                                   False   \n                    16     24                                   False   \n                           CC                                   False   \n...                                                               ...   \n2022-12-31 23:00:00 WD     ED                                   False   \n                    WP     NC                                   False   \n                           PC                                   False   \n                    WS     FM                                   False   \n                           ML                                   False   \n\n                                        event_type_party  event_type_sport  \ndatetime            origin destination                                      \n2022-01-01 00:00:00 12     19                      False             False  \n                           LM                      False             False  \n                           OW                      False             False  \n                    16     24                      False             False  \n                           CC                      False             False  \n...                                                  ...               ...  \n2022-12-31 23:00:00 WD     ED                      False             False  \n                    WP     NC                      False             False  \n                           PC                      False             False  \n                    WS     FM                      False             False  \n                           ML                      False             False  \n\n[893520 rows x 23 columns]",
      "text/html": "<div>\n<style scoped>\n    .dataframe tbody tr th:only-of-type {\n        vertical-align: middle;\n    }\n\n    .dataframe tbody tr th {\n        vertical-align: top;\n    }\n\n    .dataframe thead th {\n        text-align: right;\n    }\n</style>\n<table border=\"1\" class=\"dataframe\">\n  <thead>\n    <tr style=\"text-align: right;\">\n      <th></th>\n      <th></th>\n      <th></th>\n      <th>passengers</th>\n      <th>noise</th>\n      <th>weekend</th>\n      <th>hours_00_04</th>\n      <th>hours_04_08</th>\n      <th>hours_08_12</th>\n      <th>hours_12_16</th>\n      <th>hours_16_20</th>\n      <th>hours_20_24</th>\n      <th>event_capacity</th>\n      <th>...</th>\n      <th>event_type_education</th>\n      <th>event_type_experiences</th>\n      <th>event_type_festival</th>\n      <th>event_type_film</th>\n      <th>event_type_food-drink</th>\n      <th>event_type_lgbtq</th>\n      <th>event_type_music</th>\n      <th>event_type_outdoor-recreation</th>\n      <th>event_type_party</th>\n      <th>event_type_sport</th>\n    </tr>\n    <tr>\n      <th>datetime</th>\n      <th>origin</th>\n      <th>destination</th>\n      <th></th>\n      <th></th>\n      <th></th>\n      <th></th>\n      <th></th>\n      <th></th>\n      <th></th>\n      <th></th>\n      <th></th>\n      <th></th>\n      <th></th>\n      <th></th>\n      <th></th>\n      <th></th>\n      <th></th>\n      <th></th>\n      <th></th>\n      <th></th>\n      <th></th>\n      <th></th>\n      <th></th>\n    </tr>\n  </thead>\n  <tbody>\n    <tr>\n      <th rowspan=\"5\" valign=\"top\">2022-01-01 00:00:00</th>\n      <th rowspan=\"3\" valign=\"top\">12</th>\n      <th>19</th>\n      <td>159.0</td>\n      <td>-0.712391</td>\n      <td>True</td>\n      <td>True</td>\n      <td>False</td>\n      <td>False</td>\n      <td>False</td>\n      <td>False</td>\n      <td>False</td>\n      <td>0.0</td>\n      <td>...</td>\n      <td>False</td>\n      <td>False</td>\n      <td>False</td>\n      <td>False</td>\n      <td>False</td>\n      <td>False</td>\n      <td>False</td>\n      <td>False</td>\n      <td>False</td>\n      <td>False</td>\n    </tr>\n    <tr>\n      <th>LM</th>\n      <td>6.0</td>\n      <td>0.753766</td>\n      <td>True</td>\n      <td>True</td>\n      <td>False</td>\n      <td>False</td>\n      <td>False</td>\n      <td>False</td>\n      <td>False</td>\n      <td>0.0</td>\n      <td>...</td>\n      <td>False</td>\n      <td>False</td>\n      <td>False</td>\n      <td>False</td>\n      <td>False</td>\n      <td>False</td>\n      <td>False</td>\n      <td>False</td>\n      <td>False</td>\n      <td>False</td>\n    </tr>\n    <tr>\n      <th>OW</th>\n      <td>25.0</td>\n      <td>-0.044503</td>\n      <td>True</td>\n      <td>True</td>\n      <td>False</td>\n      <td>False</td>\n      <td>False</td>\n      <td>False</td>\n      <td>False</td>\n      <td>0.0</td>\n      <td>...</td>\n      <td>False</td>\n      <td>False</td>\n      <td>False</td>\n      <td>False</td>\n      <td>False</td>\n      <td>False</td>\n      <td>False</td>\n      <td>False</td>\n      <td>False</td>\n      <td>False</td>\n    </tr>\n    <tr>\n      <th rowspan=\"2\" valign=\"top\">16</th>\n      <th>24</th>\n      <td>78.0</td>\n      <td>0.451812</td>\n      <td>True</td>\n      <td>True</td>\n      <td>False</td>\n      <td>False</td>\n      <td>False</td>\n      <td>False</td>\n      <td>False</td>\n      <td>0.0</td>\n      <td>...</td>\n      <td>False</td>\n      <td>False</td>\n      <td>False</td>\n      <td>False</td>\n      <td>False</td>\n      <td>False</td>\n      <td>False</td>\n      <td>False</td>\n      <td>False</td>\n      <td>False</td>\n    </tr>\n    <tr>\n      <th>CC</th>\n      <td>82.0</td>\n      <td>1.345102</td>\n      <td>True</td>\n      <td>True</td>\n      <td>False</td>\n      <td>False</td>\n      <td>False</td>\n      <td>False</td>\n      <td>False</td>\n      <td>0.0</td>\n      <td>...</td>\n      <td>False</td>\n      <td>False</td>\n      <td>False</td>\n      <td>False</td>\n      <td>False</td>\n      <td>False</td>\n      <td>False</td>\n      <td>False</td>\n      <td>False</td>\n      <td>False</td>\n    </tr>\n    <tr>\n      <th>...</th>\n      <th>...</th>\n      <th>...</th>\n      <td>...</td>\n      <td>...</td>\n      <td>...</td>\n      <td>...</td>\n      <td>...</td>\n      <td>...</td>\n      <td>...</td>\n      <td>...</td>\n      <td>...</td>\n      <td>...</td>\n      <td>...</td>\n      <td>...</td>\n      <td>...</td>\n      <td>...</td>\n      <td>...</td>\n      <td>...</td>\n      <td>...</td>\n      <td>...</td>\n      <td>...</td>\n      <td>...</td>\n      <td>...</td>\n    </tr>\n    <tr>\n      <th rowspan=\"5\" valign=\"top\">2022-12-31 23:00:00</th>\n      <th>WD</th>\n      <th>ED</th>\n      <td>17.0</td>\n      <td>1.539637</td>\n      <td>True</td>\n      <td>False</td>\n      <td>False</td>\n      <td>False</td>\n      <td>False</td>\n      <td>False</td>\n      <td>True</td>\n      <td>0.0</td>\n      <td>...</td>\n      <td>False</td>\n      <td>False</td>\n      <td>False</td>\n      <td>False</td>\n      <td>False</td>\n      <td>False</td>\n      <td>False</td>\n      <td>False</td>\n      <td>False</td>\n      <td>False</td>\n    </tr>\n    <tr>\n      <th rowspan=\"2\" valign=\"top\">WP</th>\n      <th>NC</th>\n      <td>14.0</td>\n      <td>-0.839664</td>\n      <td>True</td>\n      <td>False</td>\n      <td>False</td>\n      <td>False</td>\n      <td>False</td>\n      <td>False</td>\n      <td>True</td>\n      <td>0.0</td>\n      <td>...</td>\n      <td>False</td>\n      <td>False</td>\n      <td>False</td>\n      <td>False</td>\n      <td>False</td>\n      <td>False</td>\n      <td>False</td>\n      <td>False</td>\n      <td>False</td>\n      <td>False</td>\n    </tr>\n    <tr>\n      <th>PC</th>\n      <td>35.0</td>\n      <td>1.191693</td>\n      <td>True</td>\n      <td>False</td>\n      <td>False</td>\n      <td>False</td>\n      <td>False</td>\n      <td>False</td>\n      <td>True</td>\n      <td>0.0</td>\n      <td>...</td>\n      <td>False</td>\n      <td>False</td>\n      <td>False</td>\n      <td>False</td>\n      <td>False</td>\n      <td>False</td>\n      <td>False</td>\n      <td>False</td>\n      <td>False</td>\n      <td>False</td>\n    </tr>\n    <tr>\n      <th rowspan=\"2\" valign=\"top\">WS</th>\n      <th>FM</th>\n      <td>121.0</td>\n      <td>0.013203</td>\n      <td>True</td>\n      <td>False</td>\n      <td>False</td>\n      <td>False</td>\n      <td>False</td>\n      <td>False</td>\n      <td>True</td>\n      <td>0.0</td>\n      <td>...</td>\n      <td>False</td>\n      <td>False</td>\n      <td>False</td>\n      <td>False</td>\n      <td>False</td>\n      <td>False</td>\n      <td>False</td>\n      <td>False</td>\n      <td>False</td>\n      <td>False</td>\n    </tr>\n    <tr>\n      <th>ML</th>\n      <td>16.0</td>\n      <td>0.652791</td>\n      <td>True</td>\n      <td>False</td>\n      <td>False</td>\n      <td>False</td>\n      <td>False</td>\n      <td>False</td>\n      <td>True</td>\n      <td>0.0</td>\n      <td>...</td>\n      <td>False</td>\n      <td>False</td>\n      <td>False</td>\n      <td>False</td>\n      <td>False</td>\n      <td>False</td>\n      <td>False</td>\n      <td>False</td>\n      <td>False</td>\n      <td>False</td>\n    </tr>\n  </tbody>\n</table>\n<p>893520 rows × 23 columns</p>\n</div>"
     },
     "execution_count": 3,
     "metadata": {},
     "output_type": "execute_result"
    }
   ],
   "source": [
    "from datetime import date\n",
    "\n",
    "from torchvision import transforms\n",
    "\n",
    "from util.dataset import FeaturePassengerFlowDataset\n",
    "from util.transform import PandasToTensor, RollExogenousFeatures\n",
    "\n",
    "transform = transforms.Compose([\n",
    "    PandasToTensor(),\n",
    "    RollExogenousFeatures()\n",
    "])\n",
    "\n",
    "train_data = FeaturePassengerFlowDataset(\n",
    "    min_date=date(2022, 1, 1),\n",
    "    max_date=date(2023, 1, 1),\n",
    "    transform=transform)\n",
    "validation_data = FeaturePassengerFlowDataset(\n",
    "    min_date=date(2023, 1, 1),\n",
    "    max_date=date(2023, 4, 1),\n",
    "    transform=transform)\n",
    "test_data = FeaturePassengerFlowDataset(\n",
    "    min_date=date(2023, 4, 1),\n",
    "    max_date=date(2023, 7, 1),\n",
    "    transform=transform)\n",
    "\n",
    "train_data._data"
   ],
   "metadata": {
    "collapsed": false
   }
  },
  {
   "cell_type": "code",
   "execution_count": 4,
   "outputs": [],
   "source": [
    "from torch.utils.data import DataLoader\n",
    "\n",
    "BATCH_SIZE = 256\n",
    "\n",
    "train_loader = DataLoader(train_data, batch_size=BATCH_SIZE, shuffle=True, num_workers=4)\n",
    "validation_loader = DataLoader(validation_data, batch_size=BATCH_SIZE, shuffle=True, num_workers=4)\n",
    "test_loader = DataLoader(test_data, batch_size=BATCH_SIZE, shuffle=True, num_workers=4)"
   ],
   "metadata": {
    "collapsed": false
   }
  },
  {
   "cell_type": "code",
   "execution_count": 5,
   "outputs": [],
   "source": [
    "from torch.optim.lr_scheduler import ExponentialLR\n",
    "from models.mlp import MLP\n",
    "import torch.nn as nn\n",
    "from torch.optim import AdamW\n",
    "\n",
    "device = torch.device('cuda:0')\n",
    "\n",
    "model = MLP(\n",
    "    order=(23, 1, 0),\n",
    "    seasonal_lag=24,\n",
    "    seasonal_order=(7, 0, 0),\n",
    "    static_features=7,\n",
    "    exogenous_features=14,\n",
    "    exogenous_window=(-2, 4)\n",
    ").to(device)\n",
    "\n",
    "# Define the loss function and optimizer\n",
    "criterion = nn.MSELoss()\n",
    "optimizer = AdamW(model.parameters(), lr=1.0e-3, eps=1.0e-4)\n",
    "scheduler = ExponentialLR(optimizer, 0.9)"
   ],
   "metadata": {
    "collapsed": false
   }
  },
  {
   "cell_type": "code",
   "execution_count": null,
   "outputs": [
    {
     "data": {
      "text/plain": "EPOCH:   0%|          | 0/25 [00:00<?, ?it/s]",
      "application/vnd.jupyter.widget-view+json": {
       "version_major": 2,
       "version_minor": 0,
       "model_id": "88d23c3837834d2094492ad8decdaf43"
      }
     },
     "metadata": {},
     "output_type": "display_data"
    },
    {
     "data": {
      "text/plain": "TRAIN: 0it [00:00, ?it/s]",
      "application/vnd.jupyter.widget-view+json": {
       "version_major": 2,
       "version_minor": 0,
       "model_id": "4efb402bfa2b4d5f97a5119c4aa0702e"
      }
     },
     "metadata": {},
     "output_type": "display_data"
    },
    {
     "name": "stdout",
     "output_type": "stream",
     "text": [
      "# 0    RMSE: 111.81    MAE: 57.06\n",
      "# 1    RMSE: 102.08    MAE: 49.40\n",
      "# 2    RMSE: 101.71    MAE: 49.26\n",
      "# 3    RMSE: 98.20    MAE: 46.75\n",
      "# 4    RMSE: 98.22    MAE: 46.37\n",
      "# 5    RMSE: 97.85    MAE: 46.42\n"
     ]
    }
   ],
   "source": [
    "from datetime import datetime\n",
    "from sklearn import metrics\n",
    "from tqdm.notebook import tqdm\n",
    "import os\n",
    "import math\n",
    "\n",
    "EPOCHS = 25\n",
    "last_state = (-1, None)\n",
    "\n",
    "# Create weights directories\n",
    "os.makedirs('weights/basic-mlp/checkpoints', exist_ok=True)\n",
    "\n",
    "tqdm_epoch = tqdm(desc='EPOCH', total=EPOCHS)\n",
    "tqdm_batch = tqdm(desc='TRAIN', total=0)\n",
    "\n",
    "for epoch in range(EPOCHS):\n",
    "    # Set the correct mode for all models\n",
    "    model.train()\n",
    "\n",
    "    # Keep track of the training loss\n",
    "    y_true = []\n",
    "    y_pred = []\n",
    "\n",
    "    # Loop over training data in batches\n",
    "    tqdm_batch.reset(len(train_loader))\n",
    "    tqdm_batch.desc = 'TRAIN'\n",
    "    for batch in train_loader:\n",
    "        # Move the data to the same device as the model\n",
    "        history, horizon = tuple(t.to(device) for t in batch)\n",
    "\n",
    "        # Select views of data\n",
    "        y = horizon[:, 0, 0].squeeze()\n",
    "\n",
    "        # Clear the gradients\n",
    "        optimizer.zero_grad()\n",
    "\n",
    "        # Compute outputs using a forward pass\n",
    "        outputs = model(history, horizon).squeeze()\n",
    "\n",
    "        # Compute the training loss of this batch\n",
    "        loss = criterion(outputs, y)\n",
    "\n",
    "        # Perform a backward pass to update weights\n",
    "        loss.backward()\n",
    "        optimizer.step()\n",
    "\n",
    "        # Keep track of training loss\n",
    "        y_true += y.cpu().numpy().tolist()\n",
    "        y_pred += outputs.cpu().detach().numpy().tolist()\n",
    "\n",
    "        tqdm_batch.update()\n",
    "\n",
    "    train_mse = metrics.mean_squared_error(y_true, y_pred)\n",
    "    train_mae = metrics.mean_absolute_error(y_true, y_pred)\n",
    "    y_true = []\n",
    "    y_pred = []\n",
    "\n",
    "    # We don't need to keep track of gradients while testing on the validation set\n",
    "    with torch.no_grad():\n",
    "        model.eval()\n",
    "\n",
    "        # Loop over data in batches\n",
    "        tqdm_batch.reset(len(validation_loader))\n",
    "        tqdm_batch.desc = 'VALIDATE'\n",
    "        for batch in validation_loader:\n",
    "            # Move the data to the same device as the model\n",
    "            history, horizon = tuple(t.to(device) for t in batch)\n",
    "\n",
    "            # Select views of data\n",
    "            y = horizon[:, 0, 0].squeeze()\n",
    "\n",
    "            # Compute outputs using a forward pass\n",
    "            outputs = model(history, horizon).squeeze()\n",
    "\n",
    "            # Keep track of validation loss\n",
    "            y_true += y.cpu().numpy().tolist()\n",
    "            y_pred += outputs.cpu().detach().numpy().tolist()\n",
    "\n",
    "            tqdm_batch.update()\n",
    "\n",
    "    validation_mse = metrics.mean_squared_error(y_true, y_pred)\n",
    "    validation_mae = metrics.mean_absolute_error(y_true, y_pred)\n",
    "\n",
    "    print(f'#{epoch:2d}    RMSE: {math.sqrt(validation_mse):.2f}    MAE: {validation_mae:.2f}')\n",
    "\n",
    "    scheduler.step()\n",
    "\n",
    "    last_state = epoch, model.state_dict()\n",
    "\n",
    "    if epoch < 5 or epoch % 5 == 0:\n",
    "        torch.save(model.state_dict(), f'weights/basic-mlp/checkpoints/{epoch:2d}.pt')\n",
    "\n",
    "    tqdm_epoch.update()\n",
    "\n",
    "tqdm_batch.close()\n",
    "tqdm_epoch.close()"
   ],
   "metadata": {
    "collapsed": false,
    "pycharm": {
     "is_executing": true
    }
   }
  },
  {
   "cell_type": "code",
   "execution_count": null,
   "outputs": [],
   "source": [
    "# Save the trained model\n",
    "now = datetime.now()\n",
    "datestring = f'{now.year}{str(now.month).zfill(2)}{str(now.day).zfill(2)}-{str(now.hour).zfill(2)}{str(now.minute).zfill(2)}'\n",
    "torch.save(last_state[1], f'weights/basic-mlp/{datestring}--{last_state[0]}.pt')\n",
    "torch.save(last_state[1], f'weights/basic-mlp/seed-{SEED}.pt')\n",
    "torch.save(last_state[1], f'weights/basic-mlp/latest.pt')"
   ],
   "metadata": {
    "collapsed": false,
    "pycharm": {
     "is_executing": true
    }
   }
  },
  {
   "cell_type": "code",
   "execution_count": null,
   "outputs": [],
   "source": [
    "from os.path import exists\n",
    "\n",
    "if exists(f'weights/basic-mlp/latest.pt'):\n",
    "    model.load_state_dict(torch.load(f'weights/basic-mlp/latest.pt'))"
   ],
   "metadata": {
    "collapsed": false,
    "pycharm": {
     "is_executing": true
    }
   }
  },
  {
   "cell_type": "code",
   "execution_count": null,
   "outputs": [],
   "source": [
    "from sklearn import metrics\n",
    "from tqdm.notebook import tqdm\n",
    "\n",
    "# Keep track of the loss\n",
    "y_true = []\n",
    "y_pred = []\n",
    "\n",
    "# We don't need to keep track of gradients while testing\n",
    "with torch.no_grad():\n",
    "    model.eval()\n",
    "\n",
    "    # Loop over data in batches\n",
    "    for batch in tqdm(test_loader, desc='TEST'):\n",
    "        # Move the data to the same device as the model\n",
    "        history, horizon = tuple(t.to(device) for t in batch)\n",
    "\n",
    "        # Select views of data\n",
    "        y = horizon[:, 0, 0].squeeze()\n",
    "\n",
    "        # Compute outputs using a forward pass\n",
    "        outputs = model(history, horizon).squeeze()\n",
    "\n",
    "        # Keep track of loss\n",
    "        y_true += y.cpu().numpy().tolist()\n",
    "        y_pred += outputs.cpu().detach().numpy().tolist()\n",
    "\n",
    "# Cast results to integers\n",
    "y_true = np.array(y_true).astype('int')\n",
    "y_pred = np.array(y_pred).astype('int')\n",
    "\n",
    "# Drop results where y_true == 0\n",
    "mask = y_true > 0\n",
    "y_true = y_true[mask]\n",
    "y_pred = y_pred[mask]\n",
    "\n",
    "test_mse = metrics.mean_squared_error(y_true, y_pred)\n",
    "test_rmse = metrics.mean_squared_error(y_true, y_pred, squared=False)\n",
    "test_mae = metrics.mean_absolute_error(y_true, y_pred)\n",
    "test_mape = metrics.mean_absolute_percentage_error(y_true, y_pred)\n",
    "\n",
    "print(f'MSE: {test_mse:.2f}')\n",
    "print(f'RMSE: {test_rmse:.2f}')\n",
    "print(f'MAE: {test_mae:.2f}')\n",
    "print(f'MAPE: {test_mape:.2f}')"
   ],
   "metadata": {
    "collapsed": false,
    "pycharm": {
     "is_executing": true
    }
   }
  }
 ],
 "metadata": {
  "kernelspec": {
   "display_name": "Python 3",
   "language": "python",
   "name": "python3"
  },
  "language_info": {
   "codemirror_mode": {
    "name": "ipython",
    "version": 2
   },
   "file_extension": ".py",
   "mimetype": "text/x-python",
   "name": "python",
   "nbconvert_exporter": "python",
   "pygments_lexer": "ipython2",
   "version": "2.7.6"
  }
 },
 "nbformat": 4,
 "nbformat_minor": 0
}
